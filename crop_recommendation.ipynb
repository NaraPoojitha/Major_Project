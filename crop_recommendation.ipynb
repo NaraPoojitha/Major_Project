{
  "nbformat": 4,
  "nbformat_minor": 0,
  "metadata": {
    "colab": {
      "provenance": []
    },
    "kernelspec": {
      "name": "python3",
      "display_name": "Python 3"
    },
    "language_info": {
      "name": "python"
    }
  },
  "cells": [
    {
      "cell_type": "code",
      "execution_count": 1,
      "metadata": {
        "id": "33hUoxV9WLz6"
      },
      "outputs": [],
      "source": [
        "# importing necessary libraries\n",
        "\n",
        "import numpy as np\n",
        "import pandas as pd\n",
        "import matplotlib.pyplot as plt\n",
        "import seaborn as sns"
      ]
    },
    {
      "cell_type": "code",
      "source": [
        "# loading the dataset\n",
        "\n",
        "df = pd.read_csv(\"Crop_recommendation.csv\")\n"
      ],
      "metadata": {
        "id": "N7zE6-7EYfYk"
      },
      "execution_count": 2,
      "outputs": []
    },
    {
      "cell_type": "code",
      "source": [
        "#Exploration of Dataset\n",
        "\n",
        "df.head()\n",
        "df.info()\n",
        "df.describe()\n"
      ],
      "metadata": {
        "colab": {
          "base_uri": "https://localhost:8080/",
          "height": 568
        },
        "id": "OwPhaE_jYhXO",
        "outputId": "732770f1-6539-43ea-f016-d8dd11b0396d"
      },
      "execution_count": 3,
      "outputs": [
        {
          "output_type": "stream",
          "name": "stdout",
          "text": [
            "<class 'pandas.core.frame.DataFrame'>\n",
            "RangeIndex: 3000 entries, 0 to 2999\n",
            "Data columns (total 8 columns):\n",
            " #   Column       Non-Null Count  Dtype  \n",
            "---  ------       --------------  -----  \n",
            " 0   N            3000 non-null   int64  \n",
            " 1   P            3000 non-null   int64  \n",
            " 2   K            3000 non-null   int64  \n",
            " 3   temperature  3000 non-null   float64\n",
            " 4   humidity     3000 non-null   float64\n",
            " 5   ph           3000 non-null   float64\n",
            " 6   rainfall     3000 non-null   float64\n",
            " 7   label        3000 non-null   object \n",
            "dtypes: float64(4), int64(3), object(1)\n",
            "memory usage: 187.6+ KB\n"
          ]
        },
        {
          "output_type": "execute_result",
          "data": {
            "text/plain": [
              "                 N            P            K  temperature     humidity  \\\n",
              "count  3000.000000  3000.000000  3000.000000  3000.000000  3000.000000   \n",
              "mean     60.549333    51.358667    47.407333    24.968993    68.430428   \n",
              "std      41.328500    29.523740    45.206953     5.738100    20.902451   \n",
              "min       0.000000     5.000000     5.000000     7.015319    14.258040   \n",
              "25%      27.000000    30.000000    22.000000    21.654108    55.045989   \n",
              "50%      52.000000    49.000000    34.000000    25.346869    71.584142   \n",
              "75%      95.000000    65.000000    50.000000    28.563593    84.679019   \n",
              "max     200.000000   145.000000   205.000000    43.675493    99.981876   \n",
              "\n",
              "                ph     rainfall  \n",
              "count  3000.000000  3000.000000  \n",
              "mean      6.428686   286.762771  \n",
              "std       0.711778   406.430256  \n",
              "min       3.504752    20.211267  \n",
              "25%       6.019265    71.203275  \n",
              "50%       6.416284   110.964352  \n",
              "75%       6.821754   241.356065  \n",
              "max       9.935091  2498.906530  "
            ],
            "text/html": [
              "\n",
              "  <div id=\"df-589595ba-1081-48e7-8121-47b9dee3e40c\" class=\"colab-df-container\">\n",
              "    <div>\n",
              "<style scoped>\n",
              "    .dataframe tbody tr th:only-of-type {\n",
              "        vertical-align: middle;\n",
              "    }\n",
              "\n",
              "    .dataframe tbody tr th {\n",
              "        vertical-align: top;\n",
              "    }\n",
              "\n",
              "    .dataframe thead th {\n",
              "        text-align: right;\n",
              "    }\n",
              "</style>\n",
              "<table border=\"1\" class=\"dataframe\">\n",
              "  <thead>\n",
              "    <tr style=\"text-align: right;\">\n",
              "      <th></th>\n",
              "      <th>N</th>\n",
              "      <th>P</th>\n",
              "      <th>K</th>\n",
              "      <th>temperature</th>\n",
              "      <th>humidity</th>\n",
              "      <th>ph</th>\n",
              "      <th>rainfall</th>\n",
              "    </tr>\n",
              "  </thead>\n",
              "  <tbody>\n",
              "    <tr>\n",
              "      <th>count</th>\n",
              "      <td>3000.000000</td>\n",
              "      <td>3000.000000</td>\n",
              "      <td>3000.000000</td>\n",
              "      <td>3000.000000</td>\n",
              "      <td>3000.000000</td>\n",
              "      <td>3000.000000</td>\n",
              "      <td>3000.000000</td>\n",
              "    </tr>\n",
              "    <tr>\n",
              "      <th>mean</th>\n",
              "      <td>60.549333</td>\n",
              "      <td>51.358667</td>\n",
              "      <td>47.407333</td>\n",
              "      <td>24.968993</td>\n",
              "      <td>68.430428</td>\n",
              "      <td>6.428686</td>\n",
              "      <td>286.762771</td>\n",
              "    </tr>\n",
              "    <tr>\n",
              "      <th>std</th>\n",
              "      <td>41.328500</td>\n",
              "      <td>29.523740</td>\n",
              "      <td>45.206953</td>\n",
              "      <td>5.738100</td>\n",
              "      <td>20.902451</td>\n",
              "      <td>0.711778</td>\n",
              "      <td>406.430256</td>\n",
              "    </tr>\n",
              "    <tr>\n",
              "      <th>min</th>\n",
              "      <td>0.000000</td>\n",
              "      <td>5.000000</td>\n",
              "      <td>5.000000</td>\n",
              "      <td>7.015319</td>\n",
              "      <td>14.258040</td>\n",
              "      <td>3.504752</td>\n",
              "      <td>20.211267</td>\n",
              "    </tr>\n",
              "    <tr>\n",
              "      <th>25%</th>\n",
              "      <td>27.000000</td>\n",
              "      <td>30.000000</td>\n",
              "      <td>22.000000</td>\n",
              "      <td>21.654108</td>\n",
              "      <td>55.045989</td>\n",
              "      <td>6.019265</td>\n",
              "      <td>71.203275</td>\n",
              "    </tr>\n",
              "    <tr>\n",
              "      <th>50%</th>\n",
              "      <td>52.000000</td>\n",
              "      <td>49.000000</td>\n",
              "      <td>34.000000</td>\n",
              "      <td>25.346869</td>\n",
              "      <td>71.584142</td>\n",
              "      <td>6.416284</td>\n",
              "      <td>110.964352</td>\n",
              "    </tr>\n",
              "    <tr>\n",
              "      <th>75%</th>\n",
              "      <td>95.000000</td>\n",
              "      <td>65.000000</td>\n",
              "      <td>50.000000</td>\n",
              "      <td>28.563593</td>\n",
              "      <td>84.679019</td>\n",
              "      <td>6.821754</td>\n",
              "      <td>241.356065</td>\n",
              "    </tr>\n",
              "    <tr>\n",
              "      <th>max</th>\n",
              "      <td>200.000000</td>\n",
              "      <td>145.000000</td>\n",
              "      <td>205.000000</td>\n",
              "      <td>43.675493</td>\n",
              "      <td>99.981876</td>\n",
              "      <td>9.935091</td>\n",
              "      <td>2498.906530</td>\n",
              "    </tr>\n",
              "  </tbody>\n",
              "</table>\n",
              "</div>\n",
              "    <div class=\"colab-df-buttons\">\n",
              "\n",
              "  <div class=\"colab-df-container\">\n",
              "    <button class=\"colab-df-convert\" onclick=\"convertToInteractive('df-589595ba-1081-48e7-8121-47b9dee3e40c')\"\n",
              "            title=\"Convert this dataframe to an interactive table.\"\n",
              "            style=\"display:none;\">\n",
              "\n",
              "  <svg xmlns=\"http://www.w3.org/2000/svg\" height=\"24px\" viewBox=\"0 -960 960 960\">\n",
              "    <path d=\"M120-120v-720h720v720H120Zm60-500h600v-160H180v160Zm220 220h160v-160H400v160Zm0 220h160v-160H400v160ZM180-400h160v-160H180v160Zm440 0h160v-160H620v160ZM180-180h160v-160H180v160Zm440 0h160v-160H620v160Z\"/>\n",
              "  </svg>\n",
              "    </button>\n",
              "\n",
              "  <style>\n",
              "    .colab-df-container {\n",
              "      display:flex;\n",
              "      gap: 12px;\n",
              "    }\n",
              "\n",
              "    .colab-df-convert {\n",
              "      background-color: #E8F0FE;\n",
              "      border: none;\n",
              "      border-radius: 50%;\n",
              "      cursor: pointer;\n",
              "      display: none;\n",
              "      fill: #1967D2;\n",
              "      height: 32px;\n",
              "      padding: 0 0 0 0;\n",
              "      width: 32px;\n",
              "    }\n",
              "\n",
              "    .colab-df-convert:hover {\n",
              "      background-color: #E2EBFA;\n",
              "      box-shadow: 0px 1px 2px rgba(60, 64, 67, 0.3), 0px 1px 3px 1px rgba(60, 64, 67, 0.15);\n",
              "      fill: #174EA6;\n",
              "    }\n",
              "\n",
              "    .colab-df-buttons div {\n",
              "      margin-bottom: 4px;\n",
              "    }\n",
              "\n",
              "    [theme=dark] .colab-df-convert {\n",
              "      background-color: #3B4455;\n",
              "      fill: #D2E3FC;\n",
              "    }\n",
              "\n",
              "    [theme=dark] .colab-df-convert:hover {\n",
              "      background-color: #434B5C;\n",
              "      box-shadow: 0px 1px 3px 1px rgba(0, 0, 0, 0.15);\n",
              "      filter: drop-shadow(0px 1px 2px rgba(0, 0, 0, 0.3));\n",
              "      fill: #FFFFFF;\n",
              "    }\n",
              "  </style>\n",
              "\n",
              "    <script>\n",
              "      const buttonEl =\n",
              "        document.querySelector('#df-589595ba-1081-48e7-8121-47b9dee3e40c button.colab-df-convert');\n",
              "      buttonEl.style.display =\n",
              "        google.colab.kernel.accessAllowed ? 'block' : 'none';\n",
              "\n",
              "      async function convertToInteractive(key) {\n",
              "        const element = document.querySelector('#df-589595ba-1081-48e7-8121-47b9dee3e40c');\n",
              "        const dataTable =\n",
              "          await google.colab.kernel.invokeFunction('convertToInteractive',\n",
              "                                                    [key], {});\n",
              "        if (!dataTable) return;\n",
              "\n",
              "        const docLinkHtml = 'Like what you see? Visit the ' +\n",
              "          '<a target=\"_blank\" href=https://colab.research.google.com/notebooks/data_table.ipynb>data table notebook</a>'\n",
              "          + ' to learn more about interactive tables.';\n",
              "        element.innerHTML = '';\n",
              "        dataTable['output_type'] = 'display_data';\n",
              "        await google.colab.output.renderOutput(dataTable, element);\n",
              "        const docLink = document.createElement('div');\n",
              "        docLink.innerHTML = docLinkHtml;\n",
              "        element.appendChild(docLink);\n",
              "      }\n",
              "    </script>\n",
              "  </div>\n",
              "\n",
              "\n",
              "<div id=\"df-d9883bf8-b502-43b3-88f9-516fc1d25ab5\">\n",
              "  <button class=\"colab-df-quickchart\" onclick=\"quickchart('df-d9883bf8-b502-43b3-88f9-516fc1d25ab5')\"\n",
              "            title=\"Suggest charts\"\n",
              "            style=\"display:none;\">\n",
              "\n",
              "<svg xmlns=\"http://www.w3.org/2000/svg\" height=\"24px\"viewBox=\"0 0 24 24\"\n",
              "     width=\"24px\">\n",
              "    <g>\n",
              "        <path d=\"M19 3H5c-1.1 0-2 .9-2 2v14c0 1.1.9 2 2 2h14c1.1 0 2-.9 2-2V5c0-1.1-.9-2-2-2zM9 17H7v-7h2v7zm4 0h-2V7h2v10zm4 0h-2v-4h2v4z\"/>\n",
              "    </g>\n",
              "</svg>\n",
              "  </button>\n",
              "\n",
              "<style>\n",
              "  .colab-df-quickchart {\n",
              "      --bg-color: #E8F0FE;\n",
              "      --fill-color: #1967D2;\n",
              "      --hover-bg-color: #E2EBFA;\n",
              "      --hover-fill-color: #174EA6;\n",
              "      --disabled-fill-color: #AAA;\n",
              "      --disabled-bg-color: #DDD;\n",
              "  }\n",
              "\n",
              "  [theme=dark] .colab-df-quickchart {\n",
              "      --bg-color: #3B4455;\n",
              "      --fill-color: #D2E3FC;\n",
              "      --hover-bg-color: #434B5C;\n",
              "      --hover-fill-color: #FFFFFF;\n",
              "      --disabled-bg-color: #3B4455;\n",
              "      --disabled-fill-color: #666;\n",
              "  }\n",
              "\n",
              "  .colab-df-quickchart {\n",
              "    background-color: var(--bg-color);\n",
              "    border: none;\n",
              "    border-radius: 50%;\n",
              "    cursor: pointer;\n",
              "    display: none;\n",
              "    fill: var(--fill-color);\n",
              "    height: 32px;\n",
              "    padding: 0;\n",
              "    width: 32px;\n",
              "  }\n",
              "\n",
              "  .colab-df-quickchart:hover {\n",
              "    background-color: var(--hover-bg-color);\n",
              "    box-shadow: 0 1px 2px rgba(60, 64, 67, 0.3), 0 1px 3px 1px rgba(60, 64, 67, 0.15);\n",
              "    fill: var(--button-hover-fill-color);\n",
              "  }\n",
              "\n",
              "  .colab-df-quickchart-complete:disabled,\n",
              "  .colab-df-quickchart-complete:disabled:hover {\n",
              "    background-color: var(--disabled-bg-color);\n",
              "    fill: var(--disabled-fill-color);\n",
              "    box-shadow: none;\n",
              "  }\n",
              "\n",
              "  .colab-df-spinner {\n",
              "    border: 2px solid var(--fill-color);\n",
              "    border-color: transparent;\n",
              "    border-bottom-color: var(--fill-color);\n",
              "    animation:\n",
              "      spin 1s steps(1) infinite;\n",
              "  }\n",
              "\n",
              "  @keyframes spin {\n",
              "    0% {\n",
              "      border-color: transparent;\n",
              "      border-bottom-color: var(--fill-color);\n",
              "      border-left-color: var(--fill-color);\n",
              "    }\n",
              "    20% {\n",
              "      border-color: transparent;\n",
              "      border-left-color: var(--fill-color);\n",
              "      border-top-color: var(--fill-color);\n",
              "    }\n",
              "    30% {\n",
              "      border-color: transparent;\n",
              "      border-left-color: var(--fill-color);\n",
              "      border-top-color: var(--fill-color);\n",
              "      border-right-color: var(--fill-color);\n",
              "    }\n",
              "    40% {\n",
              "      border-color: transparent;\n",
              "      border-right-color: var(--fill-color);\n",
              "      border-top-color: var(--fill-color);\n",
              "    }\n",
              "    60% {\n",
              "      border-color: transparent;\n",
              "      border-right-color: var(--fill-color);\n",
              "    }\n",
              "    80% {\n",
              "      border-color: transparent;\n",
              "      border-right-color: var(--fill-color);\n",
              "      border-bottom-color: var(--fill-color);\n",
              "    }\n",
              "    90% {\n",
              "      border-color: transparent;\n",
              "      border-bottom-color: var(--fill-color);\n",
              "    }\n",
              "  }\n",
              "</style>\n",
              "\n",
              "  <script>\n",
              "    async function quickchart(key) {\n",
              "      const quickchartButtonEl =\n",
              "        document.querySelector('#' + key + ' button');\n",
              "      quickchartButtonEl.disabled = true;  // To prevent multiple clicks.\n",
              "      quickchartButtonEl.classList.add('colab-df-spinner');\n",
              "      try {\n",
              "        const charts = await google.colab.kernel.invokeFunction(\n",
              "            'suggestCharts', [key], {});\n",
              "      } catch (error) {\n",
              "        console.error('Error during call to suggestCharts:', error);\n",
              "      }\n",
              "      quickchartButtonEl.classList.remove('colab-df-spinner');\n",
              "      quickchartButtonEl.classList.add('colab-df-quickchart-complete');\n",
              "    }\n",
              "    (() => {\n",
              "      let quickchartButtonEl =\n",
              "        document.querySelector('#df-d9883bf8-b502-43b3-88f9-516fc1d25ab5 button');\n",
              "      quickchartButtonEl.style.display =\n",
              "        google.colab.kernel.accessAllowed ? 'block' : 'none';\n",
              "    })();\n",
              "  </script>\n",
              "</div>\n",
              "    </div>\n",
              "  </div>\n"
            ],
            "application/vnd.google.colaboratory.intrinsic+json": {
              "type": "dataframe",
              "summary": "{\n  \"name\": \"df\",\n  \"rows\": 8,\n  \"fields\": [\n    {\n      \"column\": \"N\",\n      \"properties\": {\n        \"dtype\": \"number\",\n        \"std\": 1038.3789858390849,\n        \"min\": 0.0,\n        \"max\": 3000.0,\n        \"num_unique_values\": 8,\n        \"samples\": [\n          60.54933333333334,\n          52.0,\n          3000.0\n        ],\n        \"semantic_type\": \"\",\n        \"description\": \"\"\n      }\n    },\n    {\n      \"column\": \"P\",\n      \"properties\": {\n        \"dtype\": \"number\",\n        \"std\": 1042.5488310775092,\n        \"min\": 5.0,\n        \"max\": 3000.0,\n        \"num_unique_values\": 8,\n        \"samples\": [\n          51.358666666666664,\n          49.0,\n          3000.0\n        ],\n        \"semantic_type\": \"\",\n        \"description\": \"\"\n      }\n    },\n    {\n      \"column\": \"K\",\n      \"properties\": {\n        \"dtype\": \"number\",\n        \"std\": 1041.8492970553903,\n        \"min\": 5.0,\n        \"max\": 3000.0,\n        \"num_unique_values\": 8,\n        \"samples\": [\n          47.407333333333334,\n          34.0,\n          3000.0\n        ],\n        \"semantic_type\": \"\",\n        \"description\": \"\"\n      }\n    },\n    {\n      \"column\": \"temperature\",\n      \"properties\": {\n        \"dtype\": \"number\",\n        \"std\": 1052.80162792559,\n        \"min\": 5.738099563133098,\n        \"max\": 3000.0,\n        \"num_unique_values\": 8,\n        \"samples\": [\n          24.968993056191664,\n          25.346869315,\n          3000.0\n        ],\n        \"semantic_type\": \"\",\n        \"description\": \"\"\n      }\n    },\n    {\n      \"column\": \"humidity\",\n      \"properties\": {\n        \"dtype\": \"number\",\n        \"std\": 1040.1213427085702,\n        \"min\": 14.25803981,\n        \"max\": 3000.0,\n        \"num_unique_values\": 8,\n        \"samples\": [\n          68.43042840489333,\n          71.584141525,\n          3000.0\n        ],\n        \"semantic_type\": \"\",\n        \"description\": \"\"\n      }\n    },\n    {\n      \"column\": \"ph\",\n      \"properties\": {\n        \"dtype\": \"number\",\n        \"std\": 1058.6514449511938,\n        \"min\": 0.7117780824046066,\n        \"max\": 3000.0,\n        \"num_unique_values\": 8,\n        \"samples\": [\n          6.428686116891334,\n          6.416283855,\n          3000.0\n        ],\n        \"semantic_type\": \"\",\n        \"description\": \"\"\n      }\n    },\n    {\n      \"column\": \"rainfall\",\n      \"properties\": {\n        \"dtype\": \"number\",\n        \"std\": 1199.0299089912137,\n        \"min\": 20.21126747,\n        \"max\": 3000.0,\n        \"num_unique_values\": 8,\n        \"samples\": [\n          286.76277080883335,\n          110.96435155,\n          3000.0\n        ],\n        \"semantic_type\": \"\",\n        \"description\": \"\"\n      }\n    }\n  ]\n}"
            }
          },
          "metadata": {},
          "execution_count": 3
        }
      ]
    },
    {
      "cell_type": "code",
      "source": [
        "# Print the number of unique crop types\n",
        "print('Number of Crop types:', df['label'].nunique())\n",
        "\n",
        "# Extract the labels from the DataFrame\n",
        "labels_df = df['label']\n",
        "\n",
        "# Count the occurrences of each label\n",
        "crops_labels = pd.DataFrame(labels_df.value_counts())\n",
        "\n",
        "# Sort the DataFrame by index (label)\n",
        "crops_labels.sort_index(inplace=True)\n",
        "\n",
        "# Reset the index to make 'label' a regular column\n",
        "crops_labels.reset_index(inplace=True)\n",
        "\n",
        "# Rename the columns for clarity\n",
        "crops_labels.rename(columns={'index':'label', 'label':'count'}, inplace=True)\n",
        "\n",
        "# Set the name of the index column\n",
        "crops_labels.index.name = 'index'\n",
        "\n",
        "# Print the DataFrame with explanations\n",
        "print(crops_labels)"
      ],
      "metadata": {
        "id": "b_DhzFWvY2kQ"
      },
      "execution_count": null,
      "outputs": []
    },
    {
      "cell_type": "code",
      "source": [
        "plt.figure(figsize = (15,5))\n",
        "\n",
        "plt.subplot(1,3,1)\n",
        "sns.histplot(df['N'],color = 'blue', kde = True)\n",
        "\n",
        "plt.subplot(1,3,2)\n",
        "sns.histplot(df['P'],color = 'red', kde = True)\n",
        "\n",
        "plt.subplot(1,3,3)\n",
        "sns.histplot(df['K'],color = 'green', kde = True)"
      ],
      "metadata": {
        "id": "aRN0PLJPZQki"
      },
      "execution_count": null,
      "outputs": []
    },
    {
      "cell_type": "code",
      "source": [
        "plt.figure(figsize = (15,8))\n",
        "\n",
        "plt.subplot(2,2,1)\n",
        "sns.histplot(df['ph'],color = 'blue', kde = True)\n",
        "\n",
        "plt.subplot(2,2,2)\n",
        "sns.histplot(df['temperature'],color = 'red', kde = True)\n",
        "\n",
        "plt.subplot(2,2,3)\n",
        "sns.histplot(df['humidity'],color = 'purple', kde = True)\n",
        "\n",
        "plt.subplot(2,2,4)\n",
        "sns.histplot(df['rainfall'],color = 'green', kde = True)\n"
      ],
      "metadata": {
        "id": "s8LsMSJqZmWE"
      },
      "execution_count": null,
      "outputs": []
    },
    {
      "cell_type": "code",
      "source": [
        "# Create the pivot table\n",
        "crop_desc = pd.pivot_table(df, index='label', aggfunc='mean')\n",
        "\n",
        "# Reset the index to make 'label' a regular column\n",
        "crop_desc.reset_index(inplace=True)\n",
        "\n",
        "# Print the pivot table\n",
        "print(crop_desc)"
      ],
      "metadata": {
        "id": "xJKJcMqkZnMb"
      },
      "execution_count": null,
      "outputs": []
    },
    {
      "cell_type": "code",
      "source": [
        "labels = crop_desc['label'].unique()\n",
        "\n",
        "n_value = crop_desc['N']\n",
        "p_value = crop_desc['P']\n",
        "k_value = crop_desc['K']\n",
        "\n",
        "x = np.arange(len(labels))\n",
        "width = 0.2\n",
        "\n",
        "\n",
        "fig, ax = plt.subplots(1,1, figsize = (17,7))\n",
        "n_bar = ax.bar(x - width, n_value, width, label='N')\n",
        "p_bar = ax.bar(x, p_value, width, label='P')\n",
        "k_bar = ax.bar(x + width, k_value, width, label='K')\n",
        "\n",
        "\n",
        "ax.set_ylabel('kg/ha (Mean)')\n",
        "ax.set_title('NPK Means by Crop')\n",
        "ax.set_xticks(x, labels, rotation = 45)\n",
        "ax.legend()\n",
        "\n",
        "ax.bar_label(n_bar, padding=3,label_type='edge',fmt = '%.f')\n",
        "ax.bar_label(p_bar, padding=3, label_type='edge',fmt = '%.f')\n",
        "ax.bar_label(k_bar, padding=3, label_type='edge',fmt = '%.f')\n",
        "\n",
        "fig.tight_layout()\n",
        "\n",
        "plt.show()"
      ],
      "metadata": {
        "id": "hAmxF3EBZw0r"
      },
      "execution_count": null,
      "outputs": []
    },
    {
      "cell_type": "code",
      "source": [
        "fig, ax = plt.subplots(1, 1, figsize=(18, 5))\n",
        "ph_boxplot = sns.boxplot(data = df, x = 'label', y = 'ph')\n",
        "ph_boxplot.set_xlabel('Crop',fontsize = 14)\n",
        "ph_boxplot.set_ylabel('pH', fontsize = 14)\n",
        "ph_boxplot.axes.set_title('Boxplot - pH by Crop', fontsize=14)\n",
        "\n",
        "ph_boxplot.set_xticklabels(ax.get_xticklabels(),rotation=45)\n",
        "plt.show()"
      ],
      "metadata": {
        "id": "sRNGA74YZ5dU"
      },
      "execution_count": null,
      "outputs": []
    },
    {
      "cell_type": "code",
      "source": [
        "# Data Preprocessing\n",
        "\n",
        "# Checking missing values of the dataset in each column\n",
        "df.isnull().sum()\n"
      ],
      "metadata": {
        "colab": {
          "base_uri": "https://localhost:8080/"
        },
        "id": "ajyAa-uvZ9uu",
        "outputId": "59703dd3-d9ae-4390-abe4-5d8f8f14a80c"
      },
      "execution_count": 10,
      "outputs": [
        {
          "output_type": "execute_result",
          "data": {
            "text/plain": [
              "N              0\n",
              "P              0\n",
              "K              0\n",
              "temperature    0\n",
              "humidity       0\n",
              "ph             0\n",
              "rainfall       0\n",
              "label          0\n",
              "dtype: int64"
            ]
          },
          "metadata": {},
          "execution_count": 10
        }
      ]
    },
    {
      "cell_type": "code",
      "source": [
        "\n",
        "\n",
        "# Define updated thresholds for temperature, humidity, and rainfall for each season\n",
        "spring_threshold = {'temperature': (10, 35), 'humidity': (5, 80), 'rainfall': (40, 200)}\n",
        "summer_threshold = {'temperature': (30, 45), 'humidity': (40, 80), 'rainfall': (0, 120)}\n",
        "monsoon_threshold = {'temperature': (20, 38), 'humidity': (55, 95), 'rainfall': (100, 5000)}\n",
        "autumn_threshold = {'temperature': (20, 35), 'humidity': (30, 95), 'rainfall': (25, 900)}\n",
        "winter_threshold = {'temperature': (5, 30), 'humidity': (30, 90), 'rainfall': (0, 700)}\n",
        "\n",
        "# Function to classify each data point into a season\n",
        "def classify_season(row):\n",
        "    temp, hum, rain = row['temperature'], row['humidity'], row['rainfall']\n",
        "    if spring_threshold['temperature'][0] <= temp <= spring_threshold['temperature'][1] \\\n",
        "        and spring_threshold['humidity'][0] <= hum <= spring_threshold['humidity'][1] \\\n",
        "        and spring_threshold['rainfall'][0] <= rain <= spring_threshold['rainfall'][1]:\n",
        "        return 'Spring'\n",
        "    elif summer_threshold['temperature'][0] <= temp <= summer_threshold['temperature'][1] \\\n",
        "        and summer_threshold['humidity'][0] <= hum <= summer_threshold['humidity'][1] \\\n",
        "        and summer_threshold['rainfall'][0] <= rain <= summer_threshold['rainfall'][1]:\n",
        "        return 'Summer'\n",
        "    elif monsoon_threshold['temperature'][0] <= temp <= monsoon_threshold['temperature'][1] \\\n",
        "        and monsoon_threshold['humidity'][0] <= hum <= monsoon_threshold['humidity'][1] \\\n",
        "        and monsoon_threshold['rainfall'][0] <= rain <= monsoon_threshold['rainfall'][1]:\n",
        "        return 'Monsoon'\n",
        "    elif autumn_threshold['temperature'][0] <= temp <= autumn_threshold['temperature'][1] \\\n",
        "        and autumn_threshold['humidity'][0] <= hum <= autumn_threshold['humidity'][1] \\\n",
        "        and autumn_threshold['rainfall'][0] <= rain <= autumn_threshold['rainfall'][1]:\n",
        "        return 'Autumn'\n",
        "    elif winter_threshold['temperature'][0] <= temp <= winter_threshold['temperature'][1] \\\n",
        "        and winter_threshold['humidity'][0] <= hum <= winter_threshold['humidity'][1] \\\n",
        "        and winter_threshold['rainfall'][0] <= rain <= winter_threshold['rainfall'][1]:\n",
        "        return 'Winter'\n",
        "    else:\n",
        "        return 'Monsoon'\n",
        "        print(temp,hum,rain)\n",
        "\n",
        "# Apply the function to classify each data point\n",
        "df['season'] = df.apply(classify_season, axis=1)\n",
        "\n",
        "# Save the classified data to a new CSV file\n",
        "df.to_csv('Crop_recommendation_with_season.csv', index=False)\n"
      ],
      "metadata": {
        "id": "4TJWNd4OamRk"
      },
      "execution_count": 21,
      "outputs": []
    },
    {
      "cell_type": "code",
      "source": [
        "from sklearn.preprocessing import LabelEncoder\n",
        "\n",
        "# Load the classified data\n",
        "classified_data = pd.read_csv('Crop_recommendation_with_season.csv')\n",
        "\n",
        "# Initialize LabelEncoder\n",
        "label_encoder = LabelEncoder()\n",
        "\n",
        "# Fit and transform the 'season' column to numerical labels\n",
        "classified_data['season'] = label_encoder.fit_transform(classified_data['season'])\n",
        "\n",
        "# Display the mapping between original labels and numerical labels\n",
        "label_mapping = dict(zip(label_encoder.classes_, label_encoder.transform(label_encoder.classes_)))\n",
        "print(\"Label Mapping:\", label_mapping)\n",
        "\n",
        "# Save the updated data with numerical labels to the same CSV file\n",
        "classified_data.to_csv('Crop_recommendation_with_season_labels.csv', index=False)\n",
        "\n",
        "#Label Mapping: {'Autumn': 0, 'Monsoon': 1, 'Spring': 2, 'Summer': 3, 'Winter': 4}"
      ],
      "metadata": {
        "colab": {
          "base_uri": "https://localhost:8080/"
        },
        "id": "XZfEuqGXafT7",
        "outputId": "a43d8ef1-0f5a-4fdb-eaa9-560562d374ed"
      },
      "execution_count": 22,
      "outputs": [
        {
          "output_type": "stream",
          "name": "stdout",
          "text": [
            "Label Mapping: {'Autumn': 0, 'Monsoon': 1, 'Spring': 2, 'Summer': 3, 'Winter': 4}\n"
          ]
        }
      ]
    },
    {
      "cell_type": "code",
      "source": [
        "df1 = pd.read_csv('Crop_recommendation_with_season_labels.csv')\n",
        "X = df1.drop('label', axis = 1)\n",
        "y = df1['label']"
      ],
      "metadata": {
        "id": "RtQE3Ol0jzXq"
      },
      "execution_count": 26,
      "outputs": []
    },
    {
      "cell_type": "code",
      "source": [
        "# Classification Models\n",
        "\n",
        "# Decision Tree\n",
        "\n",
        "from sklearn.tree import DecisionTreeClassifier\n",
        "from sklearn.model_selection import train_test_split\n",
        "from sklearn.model_selection import GridSearchCV\n",
        "from sklearn.metrics import classification_report\n",
        "from sklearn import metrics\n",
        "\n",
        "#Data Splitting:\n",
        "X_train, X_test, y_train, y_test = train_test_split(X, y, test_size=0.3, random_state=3)\n",
        "\n",
        "#Defines a dictionary containing the parameters to be tuned (criterion and max_depth) and their respective values.\n",
        "param_dict = {\n",
        "    'criterion': ['gini', 'entropy'],\n",
        "    'max_depth': [2, 4, 6, 8, 10, 12, 14, 16, 18, 20, 22],\n",
        "    'random_state': [2]\n",
        "}\n",
        "\n",
        "#Creating a Base Decision Tree Model:\n",
        "test_dec_tree = DecisionTreeClassifier(random_state=2)\n",
        "test_dec_tree.fit(X_train, y_train)\n",
        "\n",
        "#performing hyperparameter tuning for a Decision Tree classifier using GridSearchCV\n",
        "grid = GridSearchCV(test_dec_tree, param_dict, cv=5, n_jobs=-1, verbose=3)\n",
        "grid.fit(X_train, y_train)\n",
        "\n",
        "print(grid.best_params_)\n",
        "print(grid.best_score_)\n",
        "\n"
      ],
      "metadata": {
        "colab": {
          "base_uri": "https://localhost:8080/"
        },
        "id": "ZxSQFHwXjYmA",
        "outputId": "6f5ae6b8-dfe5-44df-d972-948eafce7011"
      },
      "execution_count": 27,
      "outputs": [
        {
          "output_type": "stream",
          "name": "stdout",
          "text": [
            "Fitting 5 folds for each of 22 candidates, totalling 110 fits\n",
            "{'criterion': 'entropy', 'max_depth': 8, 'random_state': 2}\n",
            "0.9709523809523809\n"
          ]
        }
      ]
    },
    {
      "cell_type": "code",
      "source": [
        "# Training a Decision Tree classifier with specified hyperparameters\n",
        "#and evaluating its performance on the training and testing datasets\n",
        "\n",
        "#Creating Decision Tree Classifier:\n",
        "\n",
        "Dec_tree = DecisionTreeClassifier(max_depth=8, criterion='entropy', random_state=2)\n",
        "\n",
        "#Fitting the Model:\n",
        "Dec_tree.fit(X_train, y_train)\n",
        "\n",
        "dt_train_score = Dec_tree.score(X_train, y_train)\n",
        "print(f'Decision Tree Train Accuracy is: {dt_train_score:.4f}')\n",
        "\n",
        "dt_predicted_values = Dec_tree.predict(X_test)\n",
        "dt_test_score = metrics.accuracy_score(y_test, dt_predicted_values)\n",
        "print(f'Decision Tree Test Accuracy is: {dt_test_score:.4f}')\n",
        "\n",
        "dt_report = classification_report(y_test, dt_predicted_values, digits=4)\n",
        "print(dt_report)\n"
      ],
      "metadata": {
        "id": "PfTz7FKTk4lr"
      },
      "execution_count": null,
      "outputs": []
    },
    {
      "cell_type": "code",
      "source": [
        "#Generating a heatmap to visualize the confusion matrix of the Decision Tree classifier's predictions on the test data\n",
        "\n",
        "from sklearn.metrics import confusion_matrix\n",
        "#Computing the Confusion Matrix:\n",
        "cm_dt = confusion_matrix(y_test, dt_predicted_values)\n",
        "#Creating the Heatmap:\n",
        "f, ax = plt.subplots(figsize=(10, 7))\n",
        "sns.heatmap(cm_dt, annot=True, linewidth=0.5, fmt=\".0f\", cmap='crest', ax=ax)\n",
        "plt.xlabel(\"Predicted\")\n",
        "plt.ylabel(\"Actual\")\n",
        "plt.title('Predicted vs actual')\n",
        "plt.show()\n"
      ],
      "metadata": {
        "id": "M7U2e0JqlYE0"
      },
      "execution_count": null,
      "outputs": []
    },
    {
      "cell_type": "code",
      "source": [
        "# Random Forest\n",
        "\n",
        "# RandomForestClassifier with GridSearchCV for hyperparameter tuning\n",
        "\n",
        "from sklearn.ensemble import RandomForestClassifier\n",
        "#Initializing and Fitting the RandomForestClassifier:\n",
        "test_rdf_clf = RandomForestClassifier(random_state=2)\n",
        "test_rdf_clf.fit(X_train, y_train)\n",
        "#Defining Hyperparameters for GridSearchCV:\n",
        "param_dict = {\n",
        "    'n_estimators': [50, 100, 150, 200],\n",
        "    'criterion': ['gini', 'entropy'],\n",
        "    'max_depth': [2, 4, 6, 8, 10, 12, 14, 16, 18, 20, 22],\n",
        "    'random_state': [2]\n",
        "}\n",
        "#Performing GridSearchCV:\n",
        "grid = GridSearchCV(test_rdf_clf, param_dict, cv=5, n_jobs=-1, verbose=3)\n",
        "grid.fit(X_train, y_train)\n",
        "print(grid.best_params_)\n"
      ],
      "metadata": {
        "colab": {
          "base_uri": "https://localhost:8080/"
        },
        "id": "x1oa8ZItlxqx",
        "outputId": "641e7316-b8c9-4d26-f34c-8193ea0a89b9"
      },
      "execution_count": 31,
      "outputs": [
        {
          "output_type": "stream",
          "name": "stdout",
          "text": [
            "{'criterion': 'gini', 'max_depth': 18, 'n_estimators': 100, 'random_state': 2}\n"
          ]
        }
      ]
    },
    {
      "cell_type": "code",
      "source": [
        "#Initializing and Fitting the RandomForestClassifier:\n",
        "\n",
        "rdf_clf = RandomForestClassifier(n_estimators=100, criterion='gini', max_depth=18, random_state=2)\n",
        "rdf_clf.fit(X_train, y_train)\n",
        "rdf_train_score = rdf_clf.score(X_train, y_train)\n",
        "print(f'Random Forest Train Accuracy is: {rdf_train_score:.4f}')\n",
        "rdf_predicted_values = rdf_clf.predict(X_test)\n",
        "rdf_test_score = metrics.accuracy_score(y_test, rdf_predicted_values)\n",
        "print(f'Random Forest Test Accuracy is: {rdf_test_score:.4f}')\n",
        "rdf_report = classification_report(y_test, rdf_predicted_values, digits=4)\n",
        "print(rdf_report)\n"
      ],
      "metadata": {
        "id": "izaHB4oDmUxq"
      },
      "execution_count": null,
      "outputs": []
    },
    {
      "cell_type": "code",
      "source": [
        "#confusion matrix for the RandomForestClassifier's predictions on the test set\n",
        "cm_rdf = confusion_matrix(y_test,rdf_predicted_values)\n",
        "\n",
        "f, ax = plt.subplots(figsize=(10,7))\n",
        "sns.heatmap(cm_rdf, annot=True, linewidth=0.5, fmt=\".0f\",  cmap='crest', ax = ax)\n",
        "plt.xlabel(\"Predicted\")\n",
        "plt.ylabel(\"Actual\")\n",
        "plt.title('Predicted vs actual')\n",
        "plt.show()"
      ],
      "metadata": {
        "id": "rNt-JZCWm1FY"
      },
      "execution_count": null,
      "outputs": []
    },
    {
      "cell_type": "code",
      "source": [
        "#K-Nearest Neighbors\n",
        "from sklearn.preprocessing import StandardScaler\n",
        "from sklearn.neighbors import KNeighborsClassifier\n",
        "\n",
        "#preprocessing the features by scaling them using StandardScaler and then transforming both the training and test sets\n",
        "\n",
        "sc = StandardScaler()\n",
        "X_train_scaled = sc.fit_transform(X_train)\n",
        "X_test_scaled = sc.transform(X_test)\n"
      ],
      "metadata": {
        "id": "IA7y4eb4m8uS"
      },
      "execution_count": 35,
      "outputs": []
    },
    {
      "cell_type": "code",
      "source": [
        "#Iterating over different values of n_neighbors for the K-nearest neighbors classifier\n",
        "\n",
        "score_list = []\n",
        "for i in range(4, 20):\n",
        "    knn = KNeighborsClassifier(n_neighbors=i)\n",
        "    knn.fit(X_train_scaled, y_train)\n",
        "\n",
        "    knn_train_score = knn.score(X_train_scaled, y_train)\n",
        "\n",
        "    knn_predicted_values = knn.predict(X_test_scaled)\n",
        "    knn_test_score = metrics.accuracy_score(y_test, knn_predicted_values)\n",
        "\n",
        "    score_list.append((i, knn_train_score, knn_test_score))\n",
        "    score_knn_df = pd.DataFrame(score_list, columns=['k', 'Train Score', 'Test Score'])\n",
        "print(score_knn_df)"
      ],
      "metadata": {
        "id": "lQlE-IH4nSl1"
      },
      "execution_count": null,
      "outputs": []
    },
    {
      "cell_type": "code",
      "source": [
        "#Training the K-nearest neighbors classifier:\n",
        "knn = KNeighborsClassifier(n_neighbors=5)\n",
        "knn.fit(X_train_scaled, y_train)\n",
        "\n",
        "knn_train_score = knn.score(X_train_scaled, y_train)\n",
        "print(f'K-Nearest Neighbors Train Accuracy is : {knn_train_score :.4f}')\n",
        "\n",
        "knn_predicted_values = knn.predict(X_test_scaled)\n",
        "knn_test_score = metrics.accuracy_score(y_test, knn_predicted_values)\n",
        "print(f'K-Nearest Neighbors Test Accuracy is : {knn_test_score :.4f}')\n",
        "\n",
        "knn_report = classification_report(y_test, knn_predicted_values, digits=4)\n",
        "print(knn_report)\n"
      ],
      "metadata": {
        "id": "BuWwE09TnkYT"
      },
      "execution_count": null,
      "outputs": []
    },
    {
      "cell_type": "code",
      "source": [
        "#confusion matrix for the predictions made by the K-nearest neighbors classifier on the test set\n",
        "cm_knn = confusion_matrix(y_test,knn_predicted_values)\n",
        "\n",
        "f, ax = plt.subplots(figsize=(10,7))\n",
        "sns.heatmap(cm_knn, annot=True, linewidth=0.5, fmt=\".0f\",  cmap='crest', ax = ax)\n",
        "plt.xlabel(\"Predicted\")\n",
        "plt.ylabel(\"Actual\")\n",
        "plt.title('Predicted vs actual')\n",
        "plt.show()"
      ],
      "metadata": {
        "id": "RRauSRYxn0__"
      },
      "execution_count": null,
      "outputs": []
    },
    {
      "cell_type": "code",
      "source": [
        "#Exporting Random Forest Model\n",
        "\n",
        "from joblib import Parallel, delayed\n",
        "import joblib\n",
        "\n",
        "final_rdf_clf = RandomForestClassifier(n_estimators = 100, criterion = 'gini', max_depth = 18, random_state = 2)\n",
        "final_rdf_clf.fit(X,y)\n",
        "\n",
        "joblib.dump(final_rdf_clf, 'crop_rdf_clf.pkl')"
      ],
      "metadata": {
        "colab": {
          "base_uri": "https://localhost:8080/"
        },
        "id": "VY7Lx2dMoD-v",
        "outputId": "5007f218-e43a-4ea5-f26d-7c01d3e33341"
      },
      "execution_count": 44,
      "outputs": [
        {
          "output_type": "execute_result",
          "data": {
            "text/plain": [
              "['crop_rdf_clf.pkl']"
            ]
          },
          "metadata": {},
          "execution_count": 44
        }
      ]
    }
  ]
}