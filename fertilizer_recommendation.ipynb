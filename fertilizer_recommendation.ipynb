{
  "nbformat": 4,
  "nbformat_minor": 0,
  "metadata": {
    "colab": {
      "provenance": []
    },
    "kernelspec": {
      "name": "python3",
      "display_name": "Python 3"
    },
    "language_info": {
      "name": "python"
    }
  },
  "cells": [
    {
      "cell_type": "code",
      "execution_count": 2,
      "metadata": {
        "id": "33hUoxV9WLz6"
      },
      "outputs": [],
      "source": [
        "# importing necessary libraries\n",
        "\n",
        "import numpy as np\n",
        "import pandas as pd\n",
        "import matplotlib.pyplot as plt\n",
        "import seaborn as sns"
      ]
    },
    {
      "cell_type": "code",
      "source": [
        "# loading the dataset\n",
        "\n",
        "df = pd.read_csv(\"/content/fert_dataset.csv\")\n"
      ],
      "metadata": {
        "id": "N7zE6-7EYfYk"
      },
      "execution_count": 3,
      "outputs": []
    },
    {
      "cell_type": "code",
      "source": [
        "#Exploration of Dataset\n",
        "\n",
        "df.head()\n",
        "df.info()\n",
        "df.describe()\n"
      ],
      "metadata": {
        "id": "OwPhaE_jYhXO"
      },
      "execution_count": null,
      "outputs": []
    },
    {
      "cell_type": "code",
      "source": [
        "#check the unique values in dataset\n",
        "df.apply(lambda x: len(x.unique()))\n",
        "# check for categorical attributes\n",
        "cat_col = []\n",
        "for x in df.dtypes.index:\n",
        "    if df.dtypes[x] == 'object':\n",
        "        cat_col.append(x)\n",
        "cat_col"
      ],
      "metadata": {
        "id": "b_DhzFWvY2kQ",
        "colab": {
          "base_uri": "https://localhost:8080/"
        },
        "outputId": "001dcde5-3671-4722-a010-c521d0582218"
      },
      "execution_count": 6,
      "outputs": [
        {
          "output_type": "execute_result",
          "data": {
            "text/plain": [
              "['Soil Type', 'Crop Type', 'Fertilizer Name']"
            ]
          },
          "metadata": {},
          "execution_count": 6
        }
      ]
    },
    {
      "cell_type": "code",
      "source": [
        "# print the categorical columns\n",
        "for col in cat_col:\n",
        "    print(col)\n",
        "    print(df[col].value_counts())\n",
        "    print()"
      ],
      "metadata": {
        "id": "Q8wj1ZiUUd0m"
      },
      "execution_count": null,
      "outputs": []
    },
    {
      "cell_type": "code",
      "source": [
        "plt.figure(figsize = (15,5))\n",
        "\n",
        "plt.subplot(1,3,1)\n",
        "sns.histplot(df['Nitrogen'],color = 'blue', kde = True)\n",
        "\n",
        "plt.subplot(1,3,2)\n",
        "sns.histplot(df['Potassium'],color = 'red', kde = True)\n",
        "\n",
        "plt.subplot(1,3,3)\n",
        "sns.histplot(df['Phosphorous'],color = 'green', kde = True)"
      ],
      "metadata": {
        "id": "aRN0PLJPZQki"
      },
      "execution_count": null,
      "outputs": []
    },
    {
      "cell_type": "code",
      "source": [
        "plt.figure(figsize=(15, 8))\n",
        "\n",
        "plt.subplot(2, 2, 1)\n",
        "sns.histplot(df['Temparature'], color='red', kde=True)\n",
        "plt.xlabel('Temperature')\n",
        "\n",
        "plt.subplot(2, 2, 2)\n",
        "sns.histplot(df['Humidity'], color='purple', kde=True)\n",
        "plt.xlabel('Humidity')\n",
        "\n",
        "plt.subplot(2, 2, 3)\n",
        "sns.histplot(df['Soil Moisture'], color='green', kde=True)\n",
        "plt.xlabel('Soil Moisture')\n",
        "\n",
        "plt.tight_layout()\n",
        "plt.show()\n"
      ],
      "metadata": {
        "id": "s8LsMSJqZmWE"
      },
      "execution_count": null,
      "outputs": []
    },
    {
      "cell_type": "code",
      "source": [
        "#it show the count of each crop type\n",
        "plt.figure(figsize=(10,8))\n",
        "sns.countplot(x='Crop Type', data = df)"
      ],
      "metadata": {
        "id": "xJKJcMqkZnMb"
      },
      "execution_count": null,
      "outputs": []
    },
    {
      "cell_type": "code",
      "source": [
        "plt.figure(figsize=(8,5))\n",
        "sns.countplot(x='Fertilizer Name', data = df)"
      ],
      "metadata": {
        "id": "hAmxF3EBZw0r"
      },
      "execution_count": null,
      "outputs": []
    },
    {
      "cell_type": "code",
      "source": [
        "# it shows the count of each soil type\n",
        "plt.figure(figsize=(10,5))\n",
        "sns.countplot(x='Soil Type', data = df)"
      ],
      "metadata": {
        "id": "sRNGA74YZ5dU"
      },
      "execution_count": null,
      "outputs": []
    },
    {
      "cell_type": "code",
      "source": [
        "# Data Preprocessing\n",
        "\n",
        "# Checking missing values of the dataset in each column\n",
        "df.isnull().sum()\n"
      ],
      "metadata": {
        "id": "ajyAa-uvZ9uu"
      },
      "execution_count": null,
      "outputs": []
    },
    {
      "cell_type": "code",
      "source": [
        "# importing label encoder for converting categorical\n",
        "from sklearn.preprocessing import LabelEncoder\n",
        "\n",
        "#encoding Soil Type variable\n",
        "encode_soil = LabelEncoder()\n",
        "df['Soil Type'] = encode_soil.fit_transform(df['Soil Type'])\n",
        "\n",
        "#creating the DataFrame\n",
        "Soil_Type = pd.DataFrame(zip(encode_soil.classes_,encode_soil.transform(encode_soil.classes_)),columns=['Original','Encoded'])\n",
        "Soil_Type = Soil_Type.set_index('Original')\n",
        "Soil_Type"
      ],
      "metadata": {
        "id": "4TJWNd4OamRk"
      },
      "execution_count": null,
      "outputs": []
    },
    {
      "cell_type": "code",
      "source": [
        "# encoding the crop type variables\n",
        "encode_crop =  LabelEncoder()\n",
        "df['Crop Type'] = encode_crop.fit_transform(df['Crop Type'])\n",
        "\n",
        "#creating the DataFrame\n",
        "Crop_Type = pd.DataFrame(zip(encode_crop.classes_,encode_crop.transform(encode_crop.classes_)),columns=['Original','Encoded'])\n",
        "Crop_Type = Crop_Type.set_index('Original')\n",
        "Crop_Type"
      ],
      "metadata": {
        "id": "XZfEuqGXafT7"
      },
      "execution_count": null,
      "outputs": []
    },
    {
      "cell_type": "code",
      "source": [
        "# encoding fertilizer name type variable\n",
        "encode_ferti = LabelEncoder()\n",
        "df['Fertilizer Name'] = encode_ferti.fit_transform(df['Fertilizer Name'])\n",
        "\n",
        "#creating the DataFrame\n",
        "Fertilizer = pd.DataFrame(zip(encode_ferti.classes_,encode_ferti.transform(encode_ferti.classes_)),columns=['Original','Encoded'])\n",
        "Fertilizer = Fertilizer.set_index('Original')\n",
        "Fertilizer\n"
      ],
      "metadata": {
        "id": "5B2u49zUWE0l"
      },
      "execution_count": null,
      "outputs": []
    },
    {
      "cell_type": "code",
      "source": [
        "#correlation heatmap\n",
        "plt.figure(figsize=[10,8])\n",
        "sns.heatmap(df.corr(),annot=True)\n",
        "plt.show()"
      ],
      "metadata": {
        "id": "BueId4XOWGjS"
      },
      "execution_count": null,
      "outputs": []
    },
    {
      "cell_type": "code",
      "source": [
        "\n",
        "X=df.drop([\"Fertilizer Name\"],axis=1)\n",
        "y=df[\"Fertilizer Name\"]\n",
        "\n"
      ],
      "metadata": {
        "id": "RtQE3Ol0jzXq"
      },
      "execution_count": 27,
      "outputs": []
    },
    {
      "cell_type": "code",
      "source": [
        "# Classification Models\n",
        "\n",
        "#Decision Tree\n",
        "\n",
        "from sklearn.tree import DecisionTreeClassifier\n",
        "from sklearn.model_selection import train_test_split\n",
        "from sklearn.model_selection import GridSearchCV\n",
        "from sklearn.metrics import classification_report\n",
        "from sklearn import metrics\n",
        "\n",
        "\n",
        "# Data Splitting\n",
        "X_train, X_test, y_train, y_test = train_test_split(X, y, test_size=0.3, random_state=3)\n",
        "\n",
        "# Define a dictionary containing the parameters to be tuned and their respective values\n",
        "param_dict = {\n",
        "    'criterion': ['gini', 'entropy'],\n",
        "    'max_depth': [2, 4, 6, 8, 10, 12, 14, 16, 18, 20, 22],\n",
        "    'random_state': [2]\n",
        "}\n",
        "\n",
        "# Create a Base Decision Tree Model\n",
        "test_dec_tree = DecisionTreeClassifier(random_state=2)\n",
        "test_dec_tree.fit(X_train, y_train)\n",
        "\n",
        "# Performing hyperparameter tuning for the Decision Tree classifier using GridSearchCV\n",
        "grid = GridSearchCV(test_dec_tree, param_dict, cv=5, n_jobs=-1, verbose=3)\n",
        "grid.fit(X_train, y_train)\n",
        "\n",
        "print(grid.best_params_)\n",
        "print(grid.best_score_)\n",
        "\n",
        "# Output the best parameters and best score\n",
        "\n",
        "\n"
      ],
      "metadata": {
        "id": "ZxSQFHwXjYmA",
        "colab": {
          "base_uri": "https://localhost:8080/"
        },
        "outputId": "1158921d-be34-4b4c-8ec7-8b987132faaa"
      },
      "execution_count": 28,
      "outputs": [
        {
          "output_type": "stream",
          "name": "stdout",
          "text": [
            "Fitting 5 folds for each of 22 candidates, totalling 110 fits\n",
            "{'criterion': 'gini', 'max_depth': 6, 'random_state': 2}\n",
            "0.9714285714285715\n"
          ]
        }
      ]
    },
    {
      "cell_type": "code",
      "source": [
        "# Training a Decision Tree classifier with specified hyperparameters\n",
        "#and evaluating its performance on the training and testing datasets\n",
        "\n",
        "#Creating Decision Tree Classifier:\n",
        "\n",
        "Dec_tree = DecisionTreeClassifier(max_depth=6, criterion='gini', random_state=2)\n",
        "\n",
        "#Fitting the Model:\n",
        "Dec_tree.fit(X_train, y_train)\n",
        "\n",
        "dt_train_score = Dec_tree.score(X_train, y_train)\n",
        "print(f'Decision Tree Train Accuracy is: {dt_train_score:.4f}')\n",
        "\n",
        "dt_predicted_values = Dec_tree.predict(X_test)\n",
        "dt_test_score = metrics.accuracy_score(y_test, dt_predicted_values)\n",
        "print(f'Decision Tree Test Accuracy is: {dt_test_score:.4f}')\n",
        "\n",
        "dt_report = classification_report(y_test, dt_predicted_values, digits=4)\n",
        "print(dt_report)\n"
      ],
      "metadata": {
        "id": "PfTz7FKTk4lr",
        "colab": {
          "base_uri": "https://localhost:8080/"
        },
        "outputId": "344f3070-ba7f-4f8e-a1ba-542d17056b98"
      },
      "execution_count": 29,
      "outputs": [
        {
          "output_type": "stream",
          "name": "stdout",
          "text": [
            "Decision Tree Train Accuracy is: 1.0000\n",
            "Decision Tree Test Accuracy is: 0.9667\n",
            "              precision    recall  f1-score   support\n",
            "\n",
            "           0     1.0000    0.5000    0.6667         2\n",
            "           1     1.0000    1.0000    1.0000         4\n",
            "           2     0.6667    1.0000    0.8000         2\n",
            "           3     1.0000    1.0000    1.0000         3\n",
            "           4     1.0000    1.0000    1.0000         8\n",
            "           5     1.0000    1.0000    1.0000         4\n",
            "           6     1.0000    1.0000    1.0000         7\n",
            "\n",
            "    accuracy                         0.9667        30\n",
            "   macro avg     0.9524    0.9286    0.9238        30\n",
            "weighted avg     0.9778    0.9667    0.9644        30\n",
            "\n"
          ]
        }
      ]
    },
    {
      "cell_type": "code",
      "source": [
        "#Generating a heatmap to visualize the confusion matrix of the Decision Tree classifier's predictions on the test data\n",
        "\n",
        "from sklearn.metrics import confusion_matrix\n",
        "#Computing the Confusion Matrix:\n",
        "cm_dt = confusion_matrix(y_test, dt_predicted_values)\n",
        "#Creating the Heatmap:\n",
        "f, ax = plt.subplots(figsize=(10, 7))\n",
        "sns.heatmap(cm_dt, annot=True, linewidth=0.5, fmt=\".0f\", cmap='crest', ax=ax)\n",
        "plt.xlabel(\"Predicted\")\n",
        "plt.ylabel(\"Actual\")\n",
        "plt.title('Predicted vs actual')\n",
        "plt.show()\n"
      ],
      "metadata": {
        "id": "M7U2e0JqlYE0"
      },
      "execution_count": null,
      "outputs": []
    },
    {
      "cell_type": "code",
      "source": [
        "# Random Forest\n",
        "\n",
        "# RandomForestClassifier with GridSearchCV for hyperparameter tuning\n",
        "\n",
        "from sklearn.ensemble import RandomForestClassifier\n",
        "#Initializing and Fitting the RandomForestClassifier:\n",
        "test_rdf_clf = RandomForestClassifier(random_state=2)\n",
        "test_rdf_clf.fit(X_train, y_train)\n",
        "#Defining Hyperparameters for GridSearchCV:\n",
        "param_dict = {\n",
        "    'n_estimators': [50, 100, 150, 200],\n",
        "    'criterion': ['gini', 'entropy'],\n",
        "    'max_depth': [2, 4, 6, 8, 10, 12, 14, 16, 18, 20, 22],\n",
        "    'random_state': [2]\n",
        "}\n",
        "#Performing GridSearchCV:\n",
        "grid = GridSearchCV(test_rdf_clf, param_dict, cv=5, n_jobs=-1, verbose=3)\n",
        "grid.fit(X_train, y_train)\n",
        "print(grid.best_params_)\n"
      ],
      "metadata": {
        "id": "x1oa8ZItlxqx",
        "colab": {
          "base_uri": "https://localhost:8080/"
        },
        "outputId": "b9bcd537-c0f5-4291-8c1b-db851eecf6e4"
      },
      "execution_count": 31,
      "outputs": [
        {
          "output_type": "stream",
          "name": "stdout",
          "text": [
            "Fitting 5 folds for each of 88 candidates, totalling 440 fits\n",
            "{'criterion': 'entropy', 'max_depth': 8, 'n_estimators': 50, 'random_state': 2}\n"
          ]
        }
      ]
    },
    {
      "cell_type": "code",
      "source": [
        "#Initializing and Fitting the RandomForestClassifier:\n",
        "\n",
        "rdf_clf = RandomForestClassifier(n_estimators=50, criterion='entropy', max_depth=8, random_state=2)\n",
        "rdf_clf.fit(X_train, y_train)\n",
        "rdf_train_score = rdf_clf.score(X_train, y_train)\n",
        "print(f'Random Forest Train Accuracy is: {rdf_train_score:.4f}')\n",
        "rdf_predicted_values = rdf_clf.predict(X_test)\n",
        "rdf_test_score = metrics.accuracy_score(y_test, rdf_predicted_values)\n",
        "print(f'Random Forest Test Accuracy is: {rdf_test_score:.4f}')\n",
        "rdf_report = classification_report(y_test, rdf_predicted_values, digits=4)\n",
        "print(rdf_report)\n"
      ],
      "metadata": {
        "id": "izaHB4oDmUxq"
      },
      "execution_count": null,
      "outputs": []
    },
    {
      "cell_type": "code",
      "source": [
        "#confusion matrix for the RandomForestClassifier's predictions on the test set\n",
        "cm_rdf = confusion_matrix(y_test,rdf_predicted_values)\n",
        "\n",
        "f, ax = plt.subplots(figsize=(10,7))\n",
        "sns.heatmap(cm_rdf, annot=True, linewidth=0.5, fmt=\".0f\",  cmap='crest', ax = ax)\n",
        "plt.xlabel(\"Predicted\")\n",
        "plt.ylabel(\"Actual\")\n",
        "plt.title('Predicted vs actual')\n",
        "plt.show()"
      ],
      "metadata": {
        "id": "rNt-JZCWm1FY"
      },
      "execution_count": null,
      "outputs": []
    },
    {
      "cell_type": "code",
      "source": [
        "#K-Nearest Neighbors\n",
        "from sklearn.preprocessing import StandardScaler\n",
        "from sklearn.neighbors import KNeighborsClassifier\n",
        "\n",
        "#preprocessing the features by scaling them using StandardScaler and then transforming both the training and test sets\n",
        "\n",
        "sc = StandardScaler()\n",
        "X_train_scaled = sc.fit_transform(X_train)\n",
        "X_test_scaled = sc.transform(X_test)\n"
      ],
      "metadata": {
        "id": "IA7y4eb4m8uS"
      },
      "execution_count": 34,
      "outputs": []
    },
    {
      "cell_type": "code",
      "source": [
        "#Iterating over different values of n_neighbors for the K-nearest neighbors classifier\n",
        "\n",
        "score_list = []\n",
        "for i in range(4, 20):\n",
        "    knn = KNeighborsClassifier(n_neighbors=i)\n",
        "    knn.fit(X_train_scaled, y_train)\n",
        "\n",
        "    knn_train_score = knn.score(X_train_scaled, y_train)\n",
        "\n",
        "    knn_predicted_values = knn.predict(X_test_scaled)\n",
        "    knn_test_score = metrics.accuracy_score(y_test, knn_predicted_values)\n",
        "\n",
        "    score_list.append((i, knn_train_score, knn_test_score))\n",
        "    score_knn_df = pd.DataFrame(score_list, columns=['k', 'Train Score', 'Test Score'])\n",
        "print(score_knn_df)"
      ],
      "metadata": {
        "id": "lQlE-IH4nSl1"
      },
      "execution_count": null,
      "outputs": []
    },
    {
      "cell_type": "code",
      "source": [
        "#Training the K-nearest neighbors classifier:\n",
        "knn = KNeighborsClassifier(n_neighbors=4)\n",
        "knn.fit(X_train_scaled, y_train)\n",
        "\n",
        "knn_train_score = knn.score(X_train_scaled, y_train)\n",
        "print(f'K-Nearest Neighbors Train Accuracy is : {knn_train_score :.4f}')\n",
        "\n",
        "knn_predicted_values = knn.predict(X_test_scaled)\n",
        "knn_test_score = metrics.accuracy_score(y_test, knn_predicted_values)\n",
        "print(f'K-Nearest Neighbors Test Accuracy is : {knn_test_score :.4f}')\n",
        "\n",
        "knn_report = classification_report(y_test, knn_predicted_values, digits=4)\n",
        "print(knn_report)\n"
      ],
      "metadata": {
        "id": "BuWwE09TnkYT"
      },
      "execution_count": null,
      "outputs": []
    },
    {
      "cell_type": "code",
      "source": [
        "#confusion matrix for the predictions made by the K-nearest neighbors classifier on the test set\n",
        "cm_knn = confusion_matrix(y_test,knn_predicted_values)\n",
        "\n",
        "f, ax = plt.subplots(figsize=(10,7))\n",
        "sns.heatmap(cm_knn, annot=True, linewidth=0.5, fmt=\".0f\",  cmap='crest', ax = ax)\n",
        "plt.xlabel(\"Predicted\")\n",
        "plt.ylabel(\"Actual\")\n",
        "plt.title('Predicted vs actual')\n",
        "plt.show()"
      ],
      "metadata": {
        "id": "RRauSRYxn0__"
      },
      "execution_count": null,
      "outputs": []
    },
    {
      "cell_type": "code",
      "source": [
        "#Exporting Random Forest Model\n",
        "\n",
        "from joblib import Parallel, delayed\n",
        "import joblib\n",
        "\n",
        "final_rdf_clf = RandomForestClassifier(n_estimators=50, criterion='entropy', max_depth=8, random_state=2)\n",
        "final_rdf_clf.fit(X,y)\n",
        "\n",
        "joblib.dump(final_rdf_clf, 'ferti_rdf_clf.pkl')"
      ],
      "metadata": {
        "id": "VY7Lx2dMoD-v",
        "colab": {
          "base_uri": "https://localhost:8080/"
        },
        "outputId": "0180a0dc-5e5a-4bc9-9420-3ae17db42b2e"
      },
      "execution_count": 39,
      "outputs": [
        {
          "output_type": "execute_result",
          "data": {
            "text/plain": [
              "['ferti_rdf_clf.pkl']"
            ]
          },
          "metadata": {},
          "execution_count": 39
        }
      ]
    },
    {
      "cell_type": "code",
      "source": [
        "# Predicted encoded fertilizer value\n",
        "predict_inputs = [[32,54,40,1,2,40,30,48]]\n",
        "encoded_predicted_fertilizer = final_rdf_clf.predict(predict_inputs)[0]\n",
        "\n",
        "# Retrieve the corresponding fertilizer name from the Fertilizer DataFrame\n",
        "predicted_fertilizer_name = Fertilizer.index[encoded_predicted_fertilizer]\n",
        "Fertilizer.to_csv('fertilizer_data.csv', index=True)\n",
        "\n",
        "# Print the predicted fertilizer name\n",
        "print(\"Predicted Fertilizer Name:\", predicted_fertilizer_name)"
      ],
      "metadata": {
        "colab": {
          "base_uri": "https://localhost:8080/"
        },
        "id": "k30Q1DOWX9sp",
        "outputId": "58fab361-49cc-48b0-a848-2a3bb72f2d66"
      },
      "execution_count": 40,
      "outputs": [
        {
          "output_type": "stream",
          "name": "stdout",
          "text": [
            "Predicted Fertilizer Name: 14-35-14\n"
          ]
        },
        {
          "output_type": "stream",
          "name": "stderr",
          "text": [
            "/usr/local/lib/python3.10/dist-packages/sklearn/base.py:493: UserWarning: X does not have valid feature names, but RandomForestClassifier was fitted with feature names\n",
            "  warnings.warn(\n"
          ]
        }
      ]
    }
  ]
}